{
 "cells": [
  {
   "cell_type": "code",
   "execution_count": 1,
   "metadata": {},
   "outputs": [],
   "source": [
    "from dataclasses import dataclass\n",
    "import os\n",
    "import config\n",
    "import json\n",
    "\n",
    "\n",
    "@dataclass\n",
    "class Song:\n",
    "    lyrics: str\n",
    "    name: str\n",
    "    artist: str\n",
    "    meta: dict"
   ]
  },
  {
   "cell_type": "code",
   "execution_count": 2,
   "metadata": {},
   "outputs": [],
   "source": [
    "remake = False\n",
    "if remake:\n",
    "    data = []\n",
    "    for file in os.listdir(config.SONG_DATA_PATH):\n",
    "        with open(os.path.join(config.SONG_DATA_PATH, file), 'r') as f:\n",
    "            cur = json.load(f)\n",
    "            for el in cur['data']:\n",
    "                data.append(Song(el['lyrics'], el['song'], el['artist'], el['meta']))\n",
    "else:\n",
    "    pass"
   ]
  },
  {
   "cell_type": "code",
   "execution_count": 3,
   "metadata": {},
   "outputs": [
    {
     "data": {
      "text/plain": [
       "124132"
      ]
     },
     "execution_count": 3,
     "metadata": {},
     "output_type": "execute_result"
    }
   ],
   "source": [
    "len(data)"
   ]
  },
  {
   "cell_type": "code",
   "execution_count": 4,
   "metadata": {},
   "outputs": [],
   "source": [
    "def clean(text: str) -> str:\n",
    "    return text.replace('\\n', ' ')"
   ]
  },
  {
   "cell_type": "code",
   "execution_count": 5,
   "metadata": {},
   "outputs": [],
   "source": [
    "from sentence_transformers import SentenceTransformer\n"
   ]
  },
  {
   "cell_type": "code",
   "execution_count": 6,
   "metadata": {},
   "outputs": [],
   "source": [
    "transformers = [\n",
    "    (\"paraphrase-multilingual-MiniLM-L12-v2\", SentenceTransformer(\"paraphrase-multilingual-MiniLM-L12-v2\", device='cuda')),\n",
    "    (\"all-MiniLM-L12-v2\", SentenceTransformer(\"all-MiniLM-L12-v2\", device='cuda')),\n",
    "    (\"distiluse-base-multilingual-cased-v2\", SentenceTransformer(\"distiluse-base-multilingual-cased-v2\", device='cuda')),\n",
    "    (\"all-mpnet-base-v2\", SentenceTransformer(\"all-mpnet-base-v2\", device='cuda')),\n",
    "    (\"all-distilroberta-v1\", SentenceTransformer(\"all-distilroberta-v1\", device='cuda')),\n",
    "    (\"multi-qa-mpnet-base-dot-v1\", SentenceTransformer(\"multi-qa-mpnet-base-dot-v1\", device='cuda')),\n",
    "]"
   ]
  },
  {
   "cell_type": "code",
   "execution_count": 7,
   "metadata": {},
   "outputs": [],
   "source": [
    "told = transformers"
   ]
  },
  {
   "cell_type": "code",
   "execution_count": 8,
   "metadata": {},
   "outputs": [],
   "source": [
    "transformers = [\n",
    "    told[1],\n",
    "    told[2],\n",
    "    told[0],\n",
    "    told[4],\n",
    "    told[3],\n",
    "    told[5],\n",
    "]"
   ]
  },
  {
   "cell_type": "code",
   "execution_count": 9,
   "metadata": {},
   "outputs": [],
   "source": [
    "def dict_to_list_fixed(d):\n",
    "    tmp = list(d.items())\n",
    "    tmp.sort()\n",
    "    return [i[1] for i in tmp]\n"
   ]
  },
  {
   "cell_type": "code",
   "execution_count": 10,
   "metadata": {},
   "outputs": [],
   "source": [
    "for i, el in enumerate(data):\n",
    "    data[i].lyrics = clean(el.lyrics)\n",
    "    data[i].meta = dict_to_list_fixed(data[i].meta)"
   ]
  },
  {
   "cell_type": "code",
   "execution_count": 11,
   "metadata": {},
   "outputs": [],
   "source": [
    "import time\n",
    "runs = 0\n",
    "def add_data(tf, _songs):\n",
    "    global runs, cur\n",
    "    for el in _songs:\n",
    "        cur.append({\n",
    "            \"lyrics\": tf.encode(el.lyrics).tolist(),\n",
    "            \"song\": el.name,\n",
    "            \"artist\": el.artist,\n",
    "            \"meta\": el.meta\n",
    "        })\n",
    "        while len(cur) >= 1000:\n",
    "            time.sleep(.5)\n",
    "    runs -= 1\n"
   ]
  },
  {
   "cell_type": "code",
   "execution_count": 12,
   "metadata": {},
   "outputs": [],
   "source": [
    "import numpy as np\n",
    "lyrics = [el.lyrics for el in data]"
   ]
  },
  {
   "cell_type": "code",
   "execution_count": 13,
   "metadata": {},
   "outputs": [
    {
     "name": "stdout",
     "output_type": "stream",
     "text": [
      "True\n"
     ]
    },
    {
     "name": "stderr",
     "output_type": "stream",
     "text": [
      "0it [00:00, ?it/s]\n",
      "0it [00:00, ?it/s]\n",
      "0it [00:00, ?it/s]\n",
      "0it [00:00, ?it/s]\n",
      "0it [00:00, ?it/s]\n",
      "125it [2:10:24, 62.59s/it]\n"
     ]
    }
   ],
   "source": [
    "import tqdm\n",
    "from threading import Thread\n",
    "import torch\n",
    "from torch.utils.data import DataLoader\n",
    "print(torch.cuda.is_available())\n",
    "\n",
    "\n",
    "for el in transformers:\n",
    "    dir = config.SONG_DATA_PATH + \"-\" + el[0]\n",
    "    bert = el[1]\n",
    "    if not os.path.exists(dir):\n",
    "        os.mkdir(dir)\n",
    "    last_file = f\"last/lastEncode{el[0].capitalize()}.txt\"\n",
    "    if not os.path.exists(last_file):\n",
    "        with open(last_file, 'w') as f:\n",
    "            f.write(\"0 0\\n\")\n",
    "    with open(last_file, 'r') as f:\n",
    "        index, start = map(int, f.readline().split())\n",
    "    s0 = start\n",
    "    batch_size = 1000\n",
    "    dl = DataLoader(lyrics[start:], batch_size=batch_size, shuffle=False)\n",
    "    \n",
    "    for bi, batch in tqdm.tqdm(enumerate(dl)):\n",
    "        # print(type(batch))\n",
    "        encoded = bert.encode(batch)\n",
    "        cur = [{\n",
    "            \"lyrics\": encoded[i].tolist(),\n",
    "            \"song\": data[s0 + bi * batch_size + i].name,\n",
    "            \"artist\": data[s0 + bi * batch_size + i].artist,\n",
    "            \"meta\": data[s0 + bi * batch_size + i].meta,\n",
    "        } for i in range(len(batch))]\n",
    "        with open(os.path.join(dir, config.SONG_FILENAME.format(index)),'w') as f:\n",
    "            json.dump(cur, f)\n",
    "        with open(last_file, 'w') as f:\n",
    "            f.write(str(index + 1) + \" \" + str(start + batch_size))\n",
    "        index += 1\n",
    "        start += batch_size\n",
    "\n"
   ]
  },
  {
   "cell_type": "code",
   "execution_count": null,
   "metadata": {},
   "outputs": [],
   "source": []
  }
 ],
 "metadata": {
  "kernelspec": {
   "display_name": "Python 3.8.8 ('venv': venv)",
   "language": "python",
   "name": "python3"
  },
  "language_info": {
   "codemirror_mode": {
    "name": "ipython",
    "version": 3
   },
   "file_extension": ".py",
   "mimetype": "text/x-python",
   "name": "python",
   "nbconvert_exporter": "python",
   "pygments_lexer": "ipython3",
   "version": "3.8.8 (default, Apr 13 2021, 19:58:26) \n[GCC 7.3.0]"
  },
  "orig_nbformat": 4,
  "vscode": {
   "interpreter": {
    "hash": "d83fcea3eeadd219dcc8dbbb5b581f79daf5b9c77428cdafb5fea61305dad999"
   }
  }
 },
 "nbformat": 4,
 "nbformat_minor": 2
}