{
 "cells": [
  {
   "cell_type": "markdown",
   "metadata": {},
   "source": [
    "## Trying manual tokenization"
   ]
  },
  {
   "cell_type": "code",
   "execution_count": 516,
   "metadata": {},
   "outputs": [],
   "source": [
    "# pip install keras, keras-bert"
   ]
  },
  {
   "cell_type": "code",
   "execution_count": 517,
   "metadata": {},
   "outputs": [],
   "source": [
    "# pip install tensorflow"
   ]
  },
  {
   "cell_type": "code",
   "execution_count": 518,
   "metadata": {},
   "outputs": [],
   "source": [
    "# # coding: utf-8\n",
    "# import sys\n",
    "# import codecs\n",
    "# import numpy as np\n",
    "# from keras_bert import load_trained_model_from_checkpoint\n",
    "# import bert.tokenization as tokenization\n",
    "# import os"
   ]
  },
  {
   "cell_type": "code",
   "execution_count": 519,
   "metadata": {},
   "outputs": [],
   "source": [
    "# config_json = {\n",
    "#     \"bert\": 'C:\\\\Users\\dannu\\\\bert-base',\n",
    "# }\n",
    "# config_json['bert_config'] = os.path.join(config_json['bert'], 'bert_config.json')\n",
    "# config_json['checkpoint'] = os.path.join(config_json['bert'], 'bert_model.ckpt')\n",
    "# config_json['vocab'] = os.path.join(config_json['bert'], 'vocab.txt')"
   ]
  },
  {
   "cell_type": "code",
   "execution_count": 520,
   "metadata": {},
   "outputs": [],
   "source": [
    "# tokenizer = tokenization.FullTokenizer(vocab_file=config_json['vocab'], do_lower_case=False)"
   ]
  },
  {
   "cell_type": "code",
   "execution_count": 521,
   "metadata": {},
   "outputs": [],
   "source": [
    "# tokens = tokenizer.tokenize(\"\"\"\n",
    "# The sun is nearly gone\n",
    "# The lights are turning on\n",
    "# A silver shine that stretches to the sea\n",
    "# We've stumbled on a view\n",
    "# That's tailor-made for two\n",
    "# What a shame those two are you and me\n",
    "# Some other girl and guy\n",
    "# Would love this swirling sky\n",
    "# But there's only you and I\n",
    "# And we've got no shot\n",
    "# This could never be\n",
    "# You're not the type for me (really?)\n",
    "# And there's not a spark in sight\n",
    "# What a waste of a lovely night\n",
    "# You say there's nothing here?\n",
    "# Well, let's make something clear\n",
    "# I think I'll be the one to make that call (but you'll call?)\n",
    "# And though you looked so cute\n",
    "# In your polyester suit (it's wool)\n",
    "# You're right, I'd never fall for you at all\n",
    "# And maybe this appeals\n",
    "# To someone not in heels\n",
    "# Or to any girl who feels\n",
    "# There's some chance for romance\n",
    "# But, I'm frankly feeling nothing\n",
    "# Is that so?\n",
    "# Or it could be less than nothing\n",
    "# Good to know, so you agree?\n",
    "# That's right\n",
    "# What a waste of a lovely night\n",
    "# \"\"\")"
   ]
  },
  {
   "cell_type": "code",
   "execution_count": 522,
   "metadata": {},
   "outputs": [],
   "source": [
    "# token_input = tokenizer.convert_tokens_to_ids(tokens)   "
   ]
  },
  {
   "cell_type": "code",
   "execution_count": 523,
   "metadata": {},
   "outputs": [],
   "source": [
    "# token_input"
   ]
  },
  {
   "cell_type": "code",
   "execution_count": 524,
   "metadata": {},
   "outputs": [],
   "source": [
    "# tokenizer.convert_tokens_to_ids([\"king\"]) "
   ]
  },
  {
   "cell_type": "code",
   "execution_count": 525,
   "metadata": {},
   "outputs": [],
   "source": [
    "# tokenizer.convert_tokens_to_ids([\"queen\"])[0] - tokenizer.convert_tokens_to_ids(\"woman\") [0]"
   ]
  },
  {
   "cell_type": "markdown",
   "metadata": {},
   "source": [
    "## Actually, i'd rather try old thing, but a better version of it"
   ]
  },
  {
   "cell_type": "code",
   "execution_count": 526,
   "metadata": {},
   "outputs": [],
   "source": [
    "# pip install sentence_transformers"
   ]
  },
  {
   "cell_type": "code",
   "execution_count": 2,
   "metadata": {},
   "outputs": [],
   "source": [
    "tnames = [\n",
    "    # \"all-MiniLM-L12-v2\",\n",
    "    # \"distiluse-base-multilingual-cased-v2\",\n",
    "    # \"paraphrase-multilingual-MiniLM-L12-v2\",\n",
    "    # \"all-distilroberta-v1\",\n",
    "    # \"all-mpnet-base-v2\",\n",
    "    \"multi-qa-mpnet-base-dot-v1\"\n",
    "]"
   ]
  },
  {
   "cell_type": "markdown",
   "metadata": {},
   "source": [
    "### Extracting downloaded data"
   ]
  },
  {
   "cell_type": "code",
   "execution_count": 3,
   "metadata": {},
   "outputs": [],
   "source": [
    "from dataclasses import dataclass\n",
    "import os\n",
    "import config\n",
    "import json\n",
    "import numpy as np\n",
    "\n",
    "\n",
    "@dataclass\n",
    "class Song:\n",
    "    lyrics: np.array\n",
    "    name: str\n",
    "    artist: str\n",
    "    meta: list\n",
    "\n",
    "\n",
    "def dict_to_list_fixed(d):\n",
    "    tmp = list(d.items())\n",
    "    tmp.sort()\n",
    "    return [i[1] for i in tmp]\n"
   ]
  },
  {
   "cell_type": "code",
   "execution_count": 4,
   "metadata": {},
   "outputs": [
    {
     "name": "stderr",
     "output_type": "stream",
     "text": [
      "100%|██████████| 125/125 [00:56<00:00,  2.20it/s]\n"
     ]
    }
   ],
   "source": [
    "import tqdm\n",
    "remake = False\n",
    "if remake:\n",
    "    data = []\n",
    "    for name in tnames:\n",
    "        part = []\n",
    "        dir = config.SONG_DATA_PATH + \"_lyrics-\" + name\n",
    "        for file in tqdm.tqdm(os.listdir(dir)):\n",
    "            with open(os.path.join(dir, file), 'r') as f:\n",
    "                cur = json.load(f)\n",
    "                for el in cur:\n",
    "                    part.append(Song(np.array(el['lyrics']), el['song'], el['artist'], el['meta']))\n",
    "                    # print(el['meta'])\n",
    "                    # break\n",
    "        data.append(part)\n",
    "else:\n",
    "    pass"
   ]
  },
  {
   "cell_type": "code",
   "execution_count": 5,
   "metadata": {},
   "outputs": [
    {
     "data": {
      "text/plain": [
       "124132"
      ]
     },
     "execution_count": 5,
     "metadata": {},
     "output_type": "execute_result"
    }
   ],
   "source": [
    "len(data[0])"
   ]
  },
  {
   "cell_type": "code",
   "execution_count": 6,
   "metadata": {},
   "outputs": [],
   "source": [
    "if remake:\n",
    "    lyrics = [\n",
    "        np.array([el.lyrics for el in data[0]]) for i in range(len(data))\n",
    "    ]"
   ]
  },
  {
   "cell_type": "code",
   "execution_count": 74,
   "metadata": {},
   "outputs": [
    {
     "data": {
      "text/plain": [
       "[array([[ 0.0967151 ,  0.22547984, -0.11201283, ...,  0.05589876,\n",
       "          0.25367513, -0.1398349 ],\n",
       "        [ 0.19314685,  0.17524461, -0.27404997, ..., -0.14184234,\n",
       "          0.08140972, -0.23342367],\n",
       "        [-0.15270962, -0.32070956, -0.2259724 , ..., -0.38907379,\n",
       "          0.14262074, -0.15149069],\n",
       "        ...,\n",
       "        [-0.08805589, -0.31744033, -0.25563994, ..., -0.13334692,\n",
       "          0.07941798, -0.40917179],\n",
       "        [-0.03523841,  0.29929161, -0.19750637, ...,  0.01268908,\n",
       "         -0.0305145 ,  0.15731314],\n",
       "        [-0.2152358 ,  0.04156289, -0.32739872, ..., -0.28125837,\n",
       "         -0.0225679 , -0.17023383]])]"
      ]
     },
     "execution_count": 74,
     "metadata": {},
     "output_type": "execute_result"
    }
   ],
   "source": [
    "lyrics"
   ]
  },
  {
   "cell_type": "code",
   "execution_count": 7,
   "metadata": {},
   "outputs": [],
   "source": [
    "# j = 6\n",
    "# (0, 1, 3, 5, 6)\n",
    "\n",
    "meta = [\n",
    "    np.array([[el.meta[j] for j in (0, 1, 3, 6)] for el in data[0]]) for i in range(len(data))\n",
    "]"
   ]
  },
  {
   "cell_type": "code",
   "execution_count": 8,
   "metadata": {},
   "outputs": [
    {
     "data": {
      "text/plain": [
       "124132"
      ]
     },
     "execution_count": 8,
     "metadata": {},
     "output_type": "execute_result"
    }
   ],
   "source": [
    "len(meta[0])"
   ]
  },
  {
   "cell_type": "code",
   "execution_count": 9,
   "metadata": {},
   "outputs": [],
   "source": [
    "from sklearn import preprocessing\n",
    "\n",
    "# meta_scaler = preprocessing.StandardScaler().fit(meta[0])\n",
    "# meta_scaled = meta_scaler.transform(meta[0])\n",
    "# lyrics_scaler = preprocessing.StandardScaler().fit(lyrics[0])\n",
    "# lyrics_scaled = lyrics_scaler.transform(lyrics[0])"
   ]
  },
  {
   "cell_type": "code",
   "execution_count": null,
   "metadata": {},
   "outputs": [
    {
     "data": {
      "text/plain": [
       "array([[-0.13449563,  1.95415031,  2.27103081, ...,  1.39597199,\n",
       "         1.76380955,  1.25372041],\n",
       "       [ 0.47403406,  1.68673474, -0.1071    , ..., -0.11703719,\n",
       "         0.62513377,  0.46494825],\n",
       "       [-1.70848282, -0.95336212,  0.5985083 , ..., -2.00872016,\n",
       "         1.02973911,  1.15548464],\n",
       "       ...,\n",
       "       [-1.30048739, -0.93595915,  0.16309394, ..., -0.05203478,\n",
       "         0.61196835, -1.01626822],\n",
       "       [-0.9671843 ,  2.34707012,  1.01628874, ...,  1.06535461,\n",
       "        -0.11468623,  3.75810311],\n",
       "       [-2.10305241,  0.97511114, -0.89007056, ..., -1.18377422,\n",
       "        -0.06215916,  0.99751623]])"
      ]
     },
     "execution_count": 824,
     "metadata": {},
     "output_type": "execute_result"
    }
   ],
   "source": [
    "lyrics_scaled"
   ]
  },
  {
   "cell_type": "code",
   "execution_count": null,
   "metadata": {},
   "outputs": [
    {
     "data": {
      "text/plain": [
       "array([[ 0.73591182],\n",
       "       [-1.1609941 ],\n",
       "       [ 0.58936973],\n",
       "       ...,\n",
       "       [ 1.63958802],\n",
       "       [ 0.04390751],\n",
       "       [ 1.871613  ]])"
      ]
     },
     "execution_count": 817,
     "metadata": {},
     "output_type": "execute_result"
    }
   ],
   "source": [
    "meta_scaled"
   ]
  },
  {
   "cell_type": "code",
   "execution_count": null,
   "metadata": {},
   "outputs": [
    {
     "data": {
      "text/plain": [
       "array([[0.663],\n",
       "       [0.197],\n",
       "       [0.627],\n",
       "       ...,\n",
       "       [0.885],\n",
       "       [0.493],\n",
       "       [0.942]])"
      ]
     },
     "execution_count": 818,
     "metadata": {},
     "output_type": "execute_result"
    }
   ],
   "source": [
    "meta[0]"
   ]
  },
  {
   "cell_type": "code",
   "execution_count": 10,
   "metadata": {},
   "outputs": [],
   "source": [
    "# dataset = [\n",
    "#     list(zip(lyrics_scaled[i], meta_scaled[i])) for i in range(len(data)) \n",
    "# ]\n",
    "dataset = [\n",
    "    list(zip(lyrics[0], meta[0]))\n",
    "]"
   ]
  },
  {
   "cell_type": "code",
   "execution_count": null,
   "metadata": {},
   "outputs": [],
   "source": []
  },
  {
   "cell_type": "code",
   "execution_count": 11,
   "metadata": {},
   "outputs": [
    {
     "data": {
      "text/plain": [
       "1"
      ]
     },
     "execution_count": 11,
     "metadata": {},
     "output_type": "execute_result"
    }
   ],
   "source": [
    "len(data)"
   ]
  },
  {
   "cell_type": "code",
   "execution_count": 12,
   "metadata": {},
   "outputs": [],
   "source": [
    "for i in range(len(data)):\n",
    "    for j in range(len(dataset[i])):\n",
    "        dataset[i][j] = list(dataset[i][j])"
   ]
  },
  {
   "cell_type": "code",
   "execution_count": 13,
   "metadata": {},
   "outputs": [
    {
     "name": "stdout",
     "output_type": "stream",
     "text": [
      "1.5698649883270264\n"
     ]
    }
   ],
   "source": [
    "for i in range(len(data)):\n",
    "    print(lyrics[i].max())"
   ]
  },
  {
   "attachments": {},
   "cell_type": "markdown",
   "metadata": {},
   "source": [
    "### Encoding downloaded data (no need in that now cause i've already encoded everything in a separate file)"
   ]
  },
  {
   "cell_type": "code",
   "execution_count": 14,
   "metadata": {},
   "outputs": [],
   "source": [
    "# import tqdm\n",
    "# from threading import Thread\n",
    "\n",
    "# remake = False\n",
    "\n",
    "# if remake:\n",
    "#     def fill_encoded(index):\n",
    "#         encoded_data[index] = (transformer.encode(data[index][0]), data[index][1])\n",
    "\n",
    "#     step = 2\n",
    "#     for i in tqdm.trange(0, len(data), step):\n",
    "#         threads = [Thread(target=fill_encoded, args=(i + j,)) for j in range(min(step, len(data) - i))]\n",
    "#         for t in threads:\n",
    "#             t.start()\n",
    "#         for t in threads:\n",
    "#             t.join()\n",
    "#         # break\n",
    "#         # encoded_data[i] = (transformer.encode(data[i][0]), data[i][1])"
   ]
  },
  {
   "cell_type": "code",
   "execution_count": 15,
   "metadata": {},
   "outputs": [],
   "source": [
    "# encoded_data[0][1].keys()"
   ]
  },
  {
   "attachments": {},
   "cell_type": "markdown",
   "metadata": {},
   "source": [
    "### Saving encoded data (no need in that now cause i've already encoded everything in a separate file)"
   ]
  },
  {
   "cell_type": "code",
   "execution_count": 16,
   "metadata": {},
   "outputs": [],
   "source": [
    "# DATA_DIR = \"all-mpnet-base-v2-data-new\"\n",
    "# remake = False\n",
    "# keys = ['danceability', 'energy', 'key', 'loudness', 'mode', 'valence', 'tempo']\n",
    "# if remake:\n",
    "#     cur = []\n",
    "#     index = 0\n",
    "#     for el in encoded_data:\n",
    "#         cur.append({\"lyrics\": [x.item() for x in el[0]], \"meta\": [el[1][k] for k in keys]})\n",
    "#         # print(cur)\n",
    "#         # break\n",
    "#         if len(cur) >= 1000:\n",
    "#             filename = os.path.join(DATA_DIR, f\"data-{index}.json\")\n",
    "#             index += 1\n",
    "#             with open(filename, 'w') as f:\n",
    "#                 json.dump(cur, f)\n",
    "#             cur = []\n",
    "#     filename = os.path.join(DATA_DIR, f\"data-{index}.json\")\n",
    "#     index += 1\n",
    "#     with open(filename, 'w') as f:\n",
    "#         json.dump(cur, f)\n",
    "#     cur = []"
   ]
  },
  {
   "cell_type": "code",
   "execution_count": 17,
   "metadata": {},
   "outputs": [],
   "source": [
    "# import json\n",
    "# import numpy as np\n",
    "# import torch\n",
    "# DATA_DIR = \"all-mpnet-base-v2-data\"\n",
    "# lyrics_max_val = 3.0483362674713135\n",
    "# meta_max_val = [torch.tensor(0.9880), torch.tensor(1.), torch.tensor(11.), torch.tensor(60.), torch.tensor(1.), torch.tensor(0.9970), torch.tensor(220.1690)]\n",
    "    \n",
    "# vecs = []\n",
    "# for file in os.listdir(DATA_DIR):\n",
    "#     if file.endswith('.json'):\n",
    "#         filename = os.path.join(DATA_DIR, file)\n",
    "#         with open(filename, 'r') as f:\n",
    "#             cur = json.load(f)\n",
    "#             for el in cur:\n",
    "#                 meta = el['meta']\n",
    "#                 for j in range(len(meta)):\n",
    "#                     meta[j] /= meta_max_val[j]\n",
    "#                 lyrics = el['lyrics']\n",
    "#                 for j in range(len(lyrics)):\n",
    "#                     lyrics[j] /= lyrics_max_val\n",
    "#                 vecs.append((np.array(lyrics, dtype=np.float32), np.array(meta, dtype=np.float32)))"
   ]
  },
  {
   "cell_type": "markdown",
   "metadata": {},
   "source": [
    "### Rn scaling uses hardcoded values because the calculations of maximum values took to much time; it is the version that can be used to recalc values"
   ]
  },
  {
   "cell_type": "code",
   "execution_count": 18,
   "metadata": {},
   "outputs": [
    {
     "name": "stdout",
     "output_type": "stream",
     "text": [
      "[1.5698649883270264]\n",
      "[  0.988   1.     60.    243.034   0.993]\n"
     ]
    },
    {
     "name": "stderr",
     "output_type": "stream",
     "text": [
      "100%|██████████| 124132/124132 [00:00<00:00, 159104.59it/s]\n"
     ]
    }
   ],
   "source": [
    "def scale_data():\n",
    "    global dataset, data\n",
    "    n = len(dataset)\n",
    "    # may be scaling is not needed.\n",
    "    first_time = True\n",
    "    if first_time:\n",
    "        lyrics_max_val = [\n",
    "            np.abs(lyrics[i]).max() for i in range(len(data))\n",
    "        ]\n",
    "        meta_max_val = np.abs(meta[0]).max(axis=0)\n",
    "\n",
    "    print(lyrics_max_val)\n",
    "    print(meta_max_val)\n",
    "\n",
    "\n",
    "    first_time = True\n",
    "    if first_time:\n",
    "        # c = input(\"continue?(y/n)>>\")\n",
    "        c = 'y'\n",
    "        if c.lower() == 'y':\n",
    "            for i in range(len(data)):\n",
    "                for j in tqdm.trange(len(dataset[i])):\n",
    "                    dataset[i][j][0] /= lyrics_max_val[i]\n",
    "                    for k in range(len(dataset[i][j][1])):\n",
    "                        dataset[i][j][1][k] /= meta_max_val[k]\n",
    "    # print(dataset[1])\n",
    "scale_data()"
   ]
  },
  {
   "cell_type": "markdown",
   "metadata": {},
   "source": []
  },
  {
   "cell_type": "markdown",
   "metadata": {},
   "source": [
    "### Translating data into np arrays"
   ]
  },
  {
   "cell_type": "code",
   "execution_count": 19,
   "metadata": {},
   "outputs": [],
   "source": [
    "# import numpy as np\n",
    "# vecs = [(np.array([x.item() for x in el[0]], dtype=np.float32), np.array([el[1][k] for k in keys], dtype=np.float32)) for el in encoded_data]"
   ]
  },
  {
   "cell_type": "code",
   "execution_count": 20,
   "metadata": {},
   "outputs": [],
   "source": [
    "# vecs[0][1].shape"
   ]
  },
  {
   "cell_type": "code",
   "execution_count": 18,
   "metadata": {},
   "outputs": [
    {
     "data": {
      "text/plain": [
       "[[[array([[ 0.11464377,  0.32731044,  0.08358866, ...,  0.08205618,\n",
       "            0.27286956, -0.18158489],\n",
       "          [ 0.09970313, -0.06703644,  0.22459203, ..., -0.05545314,\n",
       "           -0.01738118, -0.00437856],\n",
       "          [ 0.01367479, -0.08323831,  0.39402902, ...,  0.39231402,\n",
       "           -0.32279187,  0.03335387],\n",
       "          ...,\n",
       "          [ 0.27315891,  0.49720973,  0.09712414, ...,  0.24592917,\n",
       "            0.05439747,  0.33920881],\n",
       "          [ 0.00269183,  0.22338298,  0.08359437, ...,  0.05514704,\n",
       "            0.0490507 , -0.12498828],\n",
       "          [ 0.09021942,  0.1513802 ,  0.3879534 , ...,  0.0226148 ,\n",
       "            0.09361155, -0.16119   ]]),\n",
       "   array([[  0.64 ,   0.663,  -7.516, 132.77 ,   0.663],\n",
       "          [  0.338,   0.34 , -12.049,  82.433,   0.197],\n",
       "          [  0.603,   0.851,  -8.574, 143.218,   0.627],\n",
       "          ...,\n",
       "          [  0.542,   0.868,  -5.231, 158.678,   0.885],\n",
       "          [  0.544,   0.343, -12.327,  83.647,   0.493],\n",
       "          [  0.852,   0.742,  -5.727, 117.978,   0.942]])]]]"
      ]
     },
     "execution_count": 18,
     "metadata": {},
     "output_type": "execute_result"
    }
   ],
   "source": [
    "dataset"
   ]
  },
  {
   "cell_type": "markdown",
   "metadata": {},
   "source": [
    "### Putting data into dataloaders"
   ]
  },
  {
   "cell_type": "code",
   "execution_count": 22,
   "metadata": {},
   "outputs": [
    {
     "name": "stdout",
     "output_type": "stream",
     "text": [
      "124132\n"
     ]
    }
   ],
   "source": [
    "import torch\n",
    "\n",
    "\n",
    "train_loader, test_loader = [], []\n",
    "def split_data():\n",
    "    global train_set, test_loader, test_set, train_loader\n",
    "    for i in range(len(data)):\n",
    "        n = len(dataset[i])\n",
    "        print(n)\n",
    "        train_size = int(n * .8)\n",
    "        train_set = dataset[i][:train_size]\n",
    "        test_set = dataset[i][train_size:]\n",
    "        # len(train_set), len(test_set)\n",
    "        train_loader.append(torch.utils.data.DataLoader(train_set, batch_size=config.BATCH_SIZE, shuffle=True, pin_memory=True, drop_last=True))\n",
    "        test_loader.append(torch.utils.data.DataLoader(test_set, batch_size=config.BATCH_SIZE, shuffle=False))\n",
    "\n",
    "# if __name__ == \"__main__\":\n",
    "split_data()"
   ]
  },
  {
   "cell_type": "code",
   "execution_count": 23,
   "metadata": {},
   "outputs": [
    {
     "data": {
      "text/plain": [
       "993"
      ]
     },
     "execution_count": 23,
     "metadata": {},
     "output_type": "execute_result"
    }
   ],
   "source": [
    "len(train_loader[0])"
   ]
  },
  {
   "cell_type": "markdown",
   "metadata": {},
   "source": [
    "## Training net"
   ]
  },
  {
   "cell_type": "code",
   "execution_count": 24,
   "metadata": {},
   "outputs": [],
   "source": [
    "import torch\n",
    "import torch.nn as nn\n",
    "import torch.nn.functional as F\n",
    "\n",
    "class Net(nn.Module):\n",
    "    def __init__(\n",
    "            self, input_size=768, number_params=7,\n",
    "    ):\n",
    "        super().__init__()\n",
    "        self.classifier = nn.Sequential(\n",
    "            nn.Linear(input_size, 512),\n",
    "            nn.ReLU(),\n",
    "            nn.Linear(512, 256),\n",
    "            nn.ReLU(),\n",
    "            nn.Linear(256, 128),\n",
    "            nn.ReLU(),\n",
    "            nn.Linear(128, number_params),\n",
    "        )\n",
    "    def forward(self, x):\n",
    "        x = self.classifier(x)\n",
    "        return x\n"
   ]
  },
  {
   "cell_type": "code",
   "execution_count": null,
   "metadata": {},
   "outputs": [],
   "source": []
  },
  {
   "cell_type": "code",
   "execution_count": 25,
   "metadata": {},
   "outputs": [
    {
     "data": {
      "text/plain": [
       "5"
      ]
     },
     "execution_count": 25,
     "metadata": {},
     "output_type": "execute_result"
    }
   ],
   "source": [
    "len(meta[0][0])\n"
   ]
  },
  {
   "cell_type": "code",
   "execution_count": 26,
   "metadata": {},
   "outputs": [],
   "source": [
    "# from model import Net\n",
    "net = Net(number_params=5)"
   ]
  },
  {
   "cell_type": "code",
   "execution_count": 27,
   "metadata": {},
   "outputs": [],
   "source": [
    "# class AverageMeter:\n",
    "#     \"\"\"Computes and stores the average and current value\"\"\"\n",
    "#     def __init__(self):\n",
    "#         self.reset()\n",
    "\n",
    "#     def reset(self):\n",
    "#         self.avg = 0\n",
    "#         self.sum = 0\n",
    "#         self.count = 0\n",
    "\n",
    "#     def update(self, val, n=1):\n",
    "#         self.sum += val * n\n",
    "#         self.count += n\n",
    "#         self.avg = self.sum / self.count"
   ]
  },
  {
   "cell_type": "code",
   "execution_count": 28,
   "metadata": {},
   "outputs": [],
   "source": [
    "# DEVICE = torch.device('cuda' if torch.cuda.is_available() else 'cpu')\n",
    "# import config as config\n",
    "# import torch.nn as nn\n",
    "# import time\n",
    "# def train_loop(model, criterion, optimizer, train_loader, n):\n",
    "#     loss_avg = AverageMeter()\n",
    "#     acc_stat = AverageMeter()\n",
    "#     start_time = time.time()\n",
    "#     for embeddings, targets in train_loader:\n",
    "#         model.train()\n",
    "#         model.zero_grad()\n",
    "#         embeddings = embeddings.to(DEVICE).to(torch.float32)\n",
    "#         targets = targets.to(DEVICE).to(torch.float32)\n",
    "#         # print(embeddings.shape, targets.shape)\n",
    "#         output = model(embeddings)\n",
    "#         loss = criterion(output, targets)\n",
    "#         loss_avg.update(loss.item(), 1)\n",
    "\n",
    "#         # output2 = output.softmax(dim=1)\n",
    "#         output2 = output\n",
    "#         output2 = output2.cpu().detach().numpy()\n",
    "\n",
    "#         acc = np.linalg.norm(targets.cpu() - output2)\n",
    "\n",
    "#         acc_stat.update(acc, 1)\n",
    "#         loss.backward()\n",
    "#         optimizer.step()\n",
    "#     for param_group in optimizer.param_groups:\n",
    "#         lr = param_group['lr']\n",
    "#     print(f\"{n} epoch, Loss: {loss_avg.avg:.5f}, acc: {acc_stat.avg:.4f}, LR: {lr:.7f}, Time for cycle: {(time.time() - start_time):.2f} sec\")\n",
    "#     return loss_avg.avg\n",
    "\n",
    "# import tqdm\n",
    "\n",
    "# def model_load(preTrained=False, model=None, checkpoint_path=\"\"):\n",
    "#     criterion = nn.MSELoss()\n",
    "#     optimizer = torch.optim.AdamW(model.parameters(), lr=1e-4)\n",
    "#     if preTrained:\n",
    "#         \"\"\"Loading model\"\"\"\n",
    "#         checkpoint = torch.load(checkpoint_path, map_location=DEVICE )\n",
    "#         model.load_state_dict(     checkpoint['model'])\n",
    "#         model=model.to(DEVICE)\n",
    "#         # optimizer.load_state_dict( checkpoint['optimizer']) # i want to change lr\n",
    "#         epoch =                    checkpoint['epoch']\n",
    "#         score =                    checkpoint['score']\n",
    "#         return model, optimizer, criterion, epoch, score\n",
    "#     else:\n",
    "#         return model.to(DEVICE), optimizer, criterion, 0, 0\n",
    "\n",
    "\n",
    "# def save_model(model, optimizer, epoch, score, path):\n",
    "#     checkpoint={\n",
    "#         'model': model.state_dict(),\n",
    "#         'optimizer': optimizer.state_dict(),\n",
    "#         'epoch': epoch,\n",
    "#         'score': score\n",
    "#     }\n",
    "#     torch.save(checkpoint, path)\n",
    "\n",
    "\n",
    "# def Train_log(score, path):\n",
    "#     arr=np.array([score])\n",
    "#     if os.path.exists(path):\n",
    "#         with open(path, 'rb') as f:\n",
    "#             arr = np.load(f)\n",
    "#         arr = np.append(arr, score)\n",
    "#     with open(path, 'wb') as f:\n",
    "#         np.save(f, arr)\n",
    "\n",
    "\n",
    "# def train(second_time, model, name, index):\n",
    "#     # chp = config.ROOT + '/' + config.CHECKPOINT_PATH[0] + name # no need in root + ... later\n",
    "#     chp = config.CHECKPOINT_PATH + name\n",
    "#     model, optimizer, criterion, epoch, score = model_load(second_time, model, chp)\n",
    "#     print(\"Model loaded\")\n",
    "#     criterion = criterion.to(DEVICE)\n",
    "#     model=model.to(DEVICE)\n",
    "#     for e in range(100):\n",
    "#         score = train_loop(model, criterion, optimizer, train_loader[i], e)\n",
    "#         save_model(model, optimizer, e, score, chp)\n",
    "#         Train_log(score, config.TRAIN_LOG)\n",
    "#         print(\"Data saved \\n\")"
   ]
  },
  {
   "cell_type": "code",
   "execution_count": 29,
   "metadata": {},
   "outputs": [],
   "source": [
    "# for i in range(len(data)):\n",
    "#     cm = Net(input_size=dataset[i][0][0].shape[0])\n",
    "#     # print(dataset[i][0][0].shape[0])\n",
    "#     train(False, cm, tnames[i], i)"
   ]
  },
  {
   "cell_type": "code",
   "execution_count": 30,
   "metadata": {},
   "outputs": [
    {
     "name": "stdout",
     "output_type": "stream",
     "text": [
      "5\n",
      "(768,)\n",
      "Epoch: 0. Loss: 0.02718532644212246. Lr: 0.005\n",
      "Epoch: 1. Loss: 0.025177299976348877. Lr: 0.005\n",
      "Epoch: 2. Loss: 0.026999425143003464. Lr: 0.005\n",
      "Epoch: 3. Loss: 0.02388559840619564. Lr: 0.005\n",
      "Epoch: 4. Loss: 0.024313265457749367. Lr: 0.005\n",
      "Epoch: 5. Loss: 0.02441100776195526. Lr: 0.005\n",
      "Epoch: 6. Loss: 0.02432265132665634. Lr: 0.005\n",
      "Epoch: 7. Loss: 0.024318864569067955. Lr: 0.005\n",
      "Epoch: 8. Loss: 0.027820514515042305. Lr: 0.005\n",
      "Epoch: 9. Loss: 0.03110773302614689. Lr: 0.0005\n",
      "Epoch: 10. Loss: 0.024860963225364685. Lr: 0.0005\n",
      "Epoch: 11. Loss: 0.0240436103194952. Lr: 0.0005\n",
      "Epoch: 12. Loss: 0.025421079248189926. Lr: 0.0005\n",
      "Epoch: 13. Loss: 0.028873147442936897. Lr: 0.0005\n",
      "Epoch: 14. Loss: 0.023490747436881065. Lr: 0.0005\n",
      "Epoch: 15. Loss: 0.027941426262259483. Lr: 5e-05\n",
      "Epoch: 16. Loss: 0.029286710545420647. Lr: 5e-05\n",
      "Epoch: 17. Loss: 0.022909242659807205. Lr: 5e-05\n",
      "Epoch: 18. Loss: 0.024542642757296562. Lr: 5e-05\n",
      "Epoch: 19. Loss: 0.022675247862935066. Lr: 5e-05\n",
      "Epoch: 20. Loss: 0.02473534643650055. Lr: 5e-05\n",
      "Epoch: 21. Loss: 0.023901063948869705. Lr: 5e-06\n",
      "Epoch: 22. Loss: 0.02461159974336624. Lr: 5e-06\n",
      "Epoch: 23. Loss: 0.022753572091460228. Lr: 5e-06\n",
      "Epoch: 24. Loss: 0.026932911947369576. Lr: 5e-06\n",
      "Epoch: 25. Loss: 0.025474518537521362. Lr: 5e-06\n",
      "Epoch: 26. Loss: 0.023445993661880493. Lr: 5e-06\n",
      "Epoch: 27. Loss: 0.027640797197818756. Lr: 5.000000000000001e-07\n",
      "Epoch: 28. Loss: 0.023386642336845398. Lr: 5.000000000000001e-07\n",
      "Epoch: 29. Loss: 0.02562766522169113. Lr: 5.000000000000001e-07\n",
      "Epoch: 30. Loss: 0.02392704412341118. Lr: 5.000000000000001e-07\n",
      "Epoch: 31. Loss: 0.024404631927609444. Lr: 5.000000000000001e-07\n",
      "Epoch: 32. Loss: 0.024394555017352104. Lr: 5.000000000000001e-07\n",
      "Epoch: 33. Loss: 0.025276819244027138. Lr: 1e-07\n",
      "Epoch: 34. Loss: 0.022730085998773575. Lr: 1e-07\n",
      "Epoch: 35. Loss: 0.0245854239910841. Lr: 1e-07\n",
      "Epoch: 36. Loss: 0.02518428862094879. Lr: 1e-07\n",
      "Epoch: 37. Loss: 0.025475308299064636. Lr: 1e-07\n",
      "Epoch: 38. Loss: 0.02266453206539154. Lr: 1e-07\n",
      "Epoch: 39. Loss: 0.026706544682383537. Lr: 1e-07\n",
      "Epoch: 40. Loss: 0.026551062241196632. Lr: 1e-07\n",
      "Epoch: 41. Loss: 0.023539258167147636. Lr: 1e-07\n",
      "Epoch: 42. Loss: 0.02214340679347515. Lr: 1e-07\n",
      "Epoch: 43. Loss: 0.025368595495820045. Lr: 1e-07\n"
     ]
    },
    {
     "ename": "KeyboardInterrupt",
     "evalue": "",
     "output_type": "error",
     "traceback": [
      "\u001b[1;31m---------------------------------------------------------------------------\u001b[0m",
      "\u001b[1;31mKeyboardInterrupt\u001b[0m                         Traceback (most recent call last)",
      "Cell \u001b[1;32mIn [30], line 26\u001b[0m\n\u001b[0;32m     24\u001b[0m     loss \u001b[39m=\u001b[39m loss_function(outputs, by)\n\u001b[0;32m     25\u001b[0m     loss\u001b[39m.\u001b[39mbackward()\n\u001b[1;32m---> 26\u001b[0m     optimizer\u001b[39m.\u001b[39;49mstep()\n\u001b[0;32m     27\u001b[0m scheduler\u001b[39m.\u001b[39mstep(loss)\n\u001b[0;32m     29\u001b[0m \u001b[39mprint\u001b[39m(\u001b[39mf\u001b[39m\u001b[39m\"\u001b[39m\u001b[39mEpoch: \u001b[39m\u001b[39m{\u001b[39;00mepoch\u001b[39m}\u001b[39;00m\u001b[39m. Loss: \u001b[39m\u001b[39m{\u001b[39;00mloss\u001b[39m}\u001b[39;00m\u001b[39m. Lr: \u001b[39m\u001b[39m{\u001b[39;00moptimizer\u001b[39m.\u001b[39mstate_dict()[\u001b[39m'\u001b[39m\u001b[39mparam_groups\u001b[39m\u001b[39m'\u001b[39m][\u001b[39m0\u001b[39m][\u001b[39m'\u001b[39m\u001b[39mlr\u001b[39m\u001b[39m'\u001b[39m]\u001b[39m}\u001b[39;00m\u001b[39m\"\u001b[39m)\n",
      "File \u001b[1;32mc:\\Users\\dannu\\anaconda3\\lib\\site-packages\\torch\\optim\\optimizer.py:140\u001b[0m, in \u001b[0;36mOptimizer._hook_for_profile.<locals>.profile_hook_step.<locals>.wrapper\u001b[1;34m(*args, **kwargs)\u001b[0m\n\u001b[0;32m    138\u001b[0m profile_name \u001b[39m=\u001b[39m \u001b[39m\"\u001b[39m\u001b[39mOptimizer.step#\u001b[39m\u001b[39m{}\u001b[39;00m\u001b[39m.step\u001b[39m\u001b[39m\"\u001b[39m\u001b[39m.\u001b[39mformat(obj\u001b[39m.\u001b[39m\u001b[39m__class__\u001b[39m\u001b[39m.\u001b[39m\u001b[39m__name__\u001b[39m)\n\u001b[0;32m    139\u001b[0m \u001b[39mwith\u001b[39;00m torch\u001b[39m.\u001b[39mautograd\u001b[39m.\u001b[39mprofiler\u001b[39m.\u001b[39mrecord_function(profile_name):\n\u001b[1;32m--> 140\u001b[0m     out \u001b[39m=\u001b[39m func(\u001b[39m*\u001b[39;49margs, \u001b[39m*\u001b[39;49m\u001b[39m*\u001b[39;49mkwargs)\n\u001b[0;32m    141\u001b[0m     obj\u001b[39m.\u001b[39m_optimizer_step_code()\n\u001b[0;32m    142\u001b[0m     \u001b[39mreturn\u001b[39;00m out\n",
      "File \u001b[1;32mc:\\Users\\dannu\\anaconda3\\lib\\site-packages\\torch\\autograd\\grad_mode.py:27\u001b[0m, in \u001b[0;36m_DecoratorContextManager.__call__.<locals>.decorate_context\u001b[1;34m(*args, **kwargs)\u001b[0m\n\u001b[0;32m     24\u001b[0m \u001b[39m@functools\u001b[39m\u001b[39m.\u001b[39mwraps(func)\n\u001b[0;32m     25\u001b[0m \u001b[39mdef\u001b[39;00m \u001b[39mdecorate_context\u001b[39m(\u001b[39m*\u001b[39margs, \u001b[39m*\u001b[39m\u001b[39m*\u001b[39mkwargs):\n\u001b[0;32m     26\u001b[0m     \u001b[39mwith\u001b[39;00m \u001b[39mself\u001b[39m\u001b[39m.\u001b[39mclone():\n\u001b[1;32m---> 27\u001b[0m         \u001b[39mreturn\u001b[39;00m func(\u001b[39m*\u001b[39;49margs, \u001b[39m*\u001b[39;49m\u001b[39m*\u001b[39;49mkwargs)\n",
      "File \u001b[1;32mc:\\Users\\dannu\\anaconda3\\lib\\site-packages\\torch\\optim\\adamw.py:162\u001b[0m, in \u001b[0;36mAdamW.step\u001b[1;34m(self, closure)\u001b[0m\n\u001b[0;32m    158\u001b[0m             max_exp_avg_sqs\u001b[39m.\u001b[39mappend(state[\u001b[39m'\u001b[39m\u001b[39mmax_exp_avg_sq\u001b[39m\u001b[39m'\u001b[39m])\n\u001b[0;32m    160\u001b[0m         state_steps\u001b[39m.\u001b[39mappend(state[\u001b[39m'\u001b[39m\u001b[39mstep\u001b[39m\u001b[39m'\u001b[39m])\n\u001b[1;32m--> 162\u001b[0m     adamw(params_with_grad,\n\u001b[0;32m    163\u001b[0m           grads,\n\u001b[0;32m    164\u001b[0m           exp_avgs,\n\u001b[0;32m    165\u001b[0m           exp_avg_sqs,\n\u001b[0;32m    166\u001b[0m           max_exp_avg_sqs,\n\u001b[0;32m    167\u001b[0m           state_steps,\n\u001b[0;32m    168\u001b[0m           amsgrad\u001b[39m=\u001b[39;49mamsgrad,\n\u001b[0;32m    169\u001b[0m           beta1\u001b[39m=\u001b[39;49mbeta1,\n\u001b[0;32m    170\u001b[0m           beta2\u001b[39m=\u001b[39;49mbeta2,\n\u001b[0;32m    171\u001b[0m           lr\u001b[39m=\u001b[39;49mgroup[\u001b[39m'\u001b[39;49m\u001b[39mlr\u001b[39;49m\u001b[39m'\u001b[39;49m],\n\u001b[0;32m    172\u001b[0m           weight_decay\u001b[39m=\u001b[39;49mgroup[\u001b[39m'\u001b[39;49m\u001b[39mweight_decay\u001b[39;49m\u001b[39m'\u001b[39;49m],\n\u001b[0;32m    173\u001b[0m           eps\u001b[39m=\u001b[39;49mgroup[\u001b[39m'\u001b[39;49m\u001b[39meps\u001b[39;49m\u001b[39m'\u001b[39;49m],\n\u001b[0;32m    174\u001b[0m           maximize\u001b[39m=\u001b[39;49mgroup[\u001b[39m'\u001b[39;49m\u001b[39mmaximize\u001b[39;49m\u001b[39m'\u001b[39;49m],\n\u001b[0;32m    175\u001b[0m           foreach\u001b[39m=\u001b[39;49mgroup[\u001b[39m'\u001b[39;49m\u001b[39mforeach\u001b[39;49m\u001b[39m'\u001b[39;49m],\n\u001b[0;32m    176\u001b[0m           capturable\u001b[39m=\u001b[39;49mgroup[\u001b[39m'\u001b[39;49m\u001b[39mcapturable\u001b[39;49m\u001b[39m'\u001b[39;49m])\n\u001b[0;32m    178\u001b[0m \u001b[39mreturn\u001b[39;00m loss\n",
      "File \u001b[1;32mc:\\Users\\dannu\\anaconda3\\lib\\site-packages\\torch\\optim\\adamw.py:219\u001b[0m, in \u001b[0;36madamw\u001b[1;34m(params, grads, exp_avgs, exp_avg_sqs, max_exp_avg_sqs, state_steps, foreach, capturable, amsgrad, beta1, beta2, lr, weight_decay, eps, maximize)\u001b[0m\n\u001b[0;32m    216\u001b[0m \u001b[39melse\u001b[39;00m:\n\u001b[0;32m    217\u001b[0m     func \u001b[39m=\u001b[39m _single_tensor_adamw\n\u001b[1;32m--> 219\u001b[0m func(params,\n\u001b[0;32m    220\u001b[0m      grads,\n\u001b[0;32m    221\u001b[0m      exp_avgs,\n\u001b[0;32m    222\u001b[0m      exp_avg_sqs,\n\u001b[0;32m    223\u001b[0m      max_exp_avg_sqs,\n\u001b[0;32m    224\u001b[0m      state_steps,\n\u001b[0;32m    225\u001b[0m      amsgrad\u001b[39m=\u001b[39;49mamsgrad,\n\u001b[0;32m    226\u001b[0m      beta1\u001b[39m=\u001b[39;49mbeta1,\n\u001b[0;32m    227\u001b[0m      beta2\u001b[39m=\u001b[39;49mbeta2,\n\u001b[0;32m    228\u001b[0m      lr\u001b[39m=\u001b[39;49mlr,\n\u001b[0;32m    229\u001b[0m      weight_decay\u001b[39m=\u001b[39;49mweight_decay,\n\u001b[0;32m    230\u001b[0m      eps\u001b[39m=\u001b[39;49meps,\n\u001b[0;32m    231\u001b[0m      maximize\u001b[39m=\u001b[39;49mmaximize,\n\u001b[0;32m    232\u001b[0m      capturable\u001b[39m=\u001b[39;49mcapturable)\n",
      "File \u001b[1;32mc:\\Users\\dannu\\anaconda3\\lib\\site-packages\\torch\\optim\\adamw.py:267\u001b[0m, in \u001b[0;36m_single_tensor_adamw\u001b[1;34m(params, grads, exp_avgs, exp_avg_sqs, max_exp_avg_sqs, state_steps, amsgrad, beta1, beta2, lr, weight_decay, eps, maximize, capturable)\u001b[0m\n\u001b[0;32m    264\u001b[0m     param \u001b[39m=\u001b[39m torch\u001b[39m.\u001b[39mview_as_real(param)\n\u001b[0;32m    266\u001b[0m \u001b[39m# update step\u001b[39;00m\n\u001b[1;32m--> 267\u001b[0m step_t \u001b[39m+\u001b[39m\u001b[39m=\u001b[39m \u001b[39m1\u001b[39m\n\u001b[0;32m    269\u001b[0m \u001b[39m# Perform stepweight decay\u001b[39;00m\n\u001b[0;32m    270\u001b[0m param\u001b[39m.\u001b[39mmul_(\u001b[39m1\u001b[39m \u001b[39m-\u001b[39m lr \u001b[39m*\u001b[39m weight_decay)\n",
      "\u001b[1;31mKeyboardInterrupt\u001b[0m: "
     ]
    }
   ],
   "source": [
    "# train cycle\n",
    "DEVICE = torch.device('cuda' if torch.cuda.is_available() else 'cpu')\n",
    "\n",
    "import torch.optim as optim\n",
    "import torch.nn as nn\n",
    "print(dataset[0][0][1].shape[0])\n",
    "\n",
    "print(dataset[0][0][0].shape)\n",
    "cm = Net(input_size=dataset[0][0][0].shape[0], number_params=dataset[0][0][1].shape[0]).to(DEVICE)\n",
    "optimizer = optim.AdamW(cm.parameters(), lr=5e-3)\n",
    "loss_function = nn.MSELoss().to(DEVICE)\n",
    "scheduler = optim.lr_scheduler.ReduceLROnPlateau(optimizer, patience=5, threshold=1e-1, min_lr=1e-7)\n",
    "EPOCHS = 70\n",
    "for epoch in range(EPOCHS):\n",
    "    for bx, by in train_loader[0]:\n",
    "        # print(bx, by)\n",
    "        # break\n",
    "        # bx = bx.reshape(-1, 1, 24, 32)\n",
    "        cm.zero_grad()\n",
    "        bx = bx.to(DEVICE).to(torch.float32)\n",
    "        by = by.to(DEVICE).to(torch.float32)\n",
    "        # print(by.shape)\n",
    "        outputs = cm(bx)\n",
    "        loss = loss_function(outputs, by)\n",
    "        loss.backward()\n",
    "        optimizer.step()\n",
    "    scheduler.step(loss)\n",
    "\n",
    "    print(f\"Epoch: {epoch}. Loss: {loss}. Lr: {optimizer.state_dict()['param_groups'][0]['lr']}\")"
   ]
  },
  {
   "cell_type": "markdown",
   "metadata": {},
   "source": [
    "### Saving model"
   ]
  },
  {
   "cell_type": "code",
   "execution_count": 101,
   "metadata": {},
   "outputs": [
    {
     "name": "stdout",
     "output_type": "stream",
     "text": [
      "C:/Users/dannu/PycharmProjects/Practice/MoodSongsSearch/src/content/MoodSongs\\modelScaleLessLayers-multi-qa-mpnet-base-dot-v1.pt\n"
     ]
    }
   ],
   "source": [
    "ms = [\n",
    "    None for i in range(len(tnames))\n",
    "]\n",
    "if False:\n",
    "    if __name__ == \"__main__\":\n",
    "        for i, name in enumerate(tnames):\n",
    "            # dir = config.ROOT + '/' + config.CHECKPOINT_PATH[0] + name\n",
    "            # dir = config.CHECKPOINT_PATH.format(name)\n",
    "            # checkpoint = torch.load(dir, map_location=DEVICE)\n",
    "            # m = Net(input_size=dataset[i][0][0].shape[0])\n",
    "            # m.load_state_dict(checkpoint['model'])\n",
    "            # ms[i] = m\n",
    "            # print(os.path.join(config.ROOT + '/' + config.SAVE_DIR, f\"{config.MODEL_NAME}-{name}.pt\"))\n",
    "            # torch.save(m.state_dict(), os.path.join(config.ROOT + '/' + config.SAVE_DIR, f\"{config.MODEL_NAME}-{name}.pt\"))\n",
    "            print(os.path.join(config.SAVE_DIR, f\"{config.MODEL_NAME}-{name}.pt\"))\n",
    "            torch.save(cm.state_dict(), os.path.join(config.SAVE_DIR, f\"{config.MODEL_NAME}-{name}-FINAL.pt\"))"
   ]
  },
  {
   "cell_type": "markdown",
   "metadata": {},
   "source": [
    "### Just some testing"
   ]
  },
  {
   "cell_type": "code",
   "execution_count": 31,
   "metadata": {},
   "outputs": [],
   "source": [
    "#INTRODUCING: PLOT\n",
    "# plot\n",
    "\n",
    "\"\"\"\n",
    "⢸⣿⣿⣿⣿⠃⠄⢀⣴⡾⠃⠄⠄⠄⠄⠄⠈⠺⠟⠛⠛⠛⠛⠻⢿⣿⣿⣿⣿⣶⣤⡀⠄\n",
    "⢸⣿⣿⣿⡟⢀⣴⣿⡿⠁⠄⠄⠄⠄⠄⠄⠄⠄⠄⠄⠄⠄⠄⠄⣸⣿⣿⣿⣿⣿⣿⣿⣷\n",
    "⢸⣿⣿⠟⣴⣿⡿⡟⡼⢹⣷⢲⡶⣖⣾⣶⢄⠄⠄⠄⠄⠄⢀⣼⣿⢿⣿⣿⣿⣿⣿⣿⣿\n",
    "⢸⣿⢫⣾⣿⡟⣾⡸⢠⡿⢳⡿⠍⣼⣿⢏⣿⣷⢄⡀⠄⢠⣾⢻⣿⣸⣿⣿⣿⣿⣿⣿⣿\n",
    "⡿⣡⣿⣿⡟⡼⡁⠁⣰⠂⡾⠉⢨⣿⠃⣿⡿⠍⣾⣟⢤⣿⢇⣿⢇⣿⣿⢿⣿⣿⣿⣿⣿\n",
    "⣱⣿⣿⡟⡐⣰⣧⡷⣿⣴⣧⣤⣼⣯⢸⡿⠁⣰⠟⢀⣼⠏⣲⠏⢸⣿⡟⣿⣿⣿⣿⣿⣿\n",
    "⣿⣿⡟⠁⠄⠟⣁⠄⢡⣿⣿⣿⣿⣿⣿⣦⣼⢟⢀⡼⠃⡹⠃⡀⢸⡿⢸⣿⣿⣿⣿⣿⡟\n",
    "⣿⣿⠃⠄⢀⣾⠋⠓⢰⣿⣿⣿⣿⣿⣿⠿⣿⣿⣾⣅⢔⣕⡇⡇⡼⢁⣿⣿⣿⣿⣿⣿⢣\n",
    "⣿⡟⠄⠄⣾⣇⠷⣢⣿⣿⣿⣿⣿⣿⣿⣭⣀⡈⠙⢿⣿⣿⡇⡧⢁⣾⣿⣿⣿⣿⣿⢏⣾\n",
    "⣿⡇⠄⣼⣿⣿⣿⣿⣿⣿⣿⣿⣿⣿⣿⠟⢻⠇⠄⠄⢿⣿⡇⢡⣾⣿⣿⣿⣿⣿⣏⣼⣿\n",
    "⣿⣷⢰⣿⣿⣾⣿⣿⣿⣿⣿⣿⣿⣿⣿⢰⣧⣀⡄⢀⠘⡿⣰⣿⣿⣿⣿⣿⣿⠟⣼⣿⣿\n",
    "⢹⣿⢸⣿⣿⠟⠻⢿⣿⣿⣿⣿⣿⣿⣿⣶⣭⣉⣤⣿⢈⣼⣿⣿⣿⣿⣿⣿⠏⣾⣹⣿⣿\n",
    "⢸⠇⡜⣿⡟⠄⠄⠄⠈⠙⣿⣿⣿⣿⣿⣿⣿⣿⠟⣱⣻⣿⣿⣿⣿⣿⠟⠁⢳⠃⣿⣿⣿\n",
    "⠄⣰⡗⠹⣿⣄⠄⠄⠄⢀⣿⣿⣿⣿⣿⣿⠟⣅⣥⣿⣿⣿⣿⠿⠋⠄⠄⣾⡌⢠⣿⡿⠃\n",
    "⠜⠋⢠⣷⢻⣿⣿⣶⣾⣿⣿⣿⣿⠿⣛⣥⣾⣿⠿⠟⠛⠉⠄⠄\n",
    "\"\"\"\n",
    "\n",
    "import math\n",
    "import os\n",
    "import time\n",
    "from typing import Iterable\n",
    "import matplotlib.pyplot as plt\n",
    "import numpy as np\n",
    "from math import pi\n",
    "import csv\n",
    "from scipy.optimize import curve_fit\n",
    "\n",
    "\n",
    "class Plot:\n",
    "    def __init__(self, xs: Iterable, size:tuple=(18, 12)):\n",
    "        self.xs = xs\n",
    "        self.pred = []\n",
    "        self.fig, self.ax = plt.subplots()\n",
    "        self.fig.set_size_inches(*size)\n",
    "        self.data = []\n",
    "        self.labels = []\n",
    "    \n",
    "    def add_data(self, ys, label=\"\"):\n",
    "        self.data.append(ys)\n",
    "        self.labels.append(label)\n",
    "\n",
    "    def predict(self, func, p0=None):\n",
    "        for plot in self.data:\n",
    "            if p0 is not None:\n",
    "                args = curve_fit(func, self.xs, plot, p0=p0)\n",
    "            else:\n",
    "                args = curve_fit(func, self.xs, plot)\n",
    "            self.pred.append([func(x, *args[0]) for x in self.xs])\n",
    "\n",
    "    def plot(self, label:str='', x_label: str = '', y_label: str = ' ', xerr: float = 0, yerr: float = 0,\n",
    "             ms: int = 1,\n",
    "             dotted: bool = False,\n",
    "             x_num: int = 20,\n",
    "             y_num: int = 10,\n",
    "             save: bool = False,\n",
    "             file_format: str = 'pdf'):\n",
    "        self.ax.set_xlabel(x_label)\n",
    "        self.ax.set_ylabel(y_label)\n",
    "        mxy, mny = self.data[0][0], self.data[0][0]\n",
    "        for p in self.data:\n",
    "            mxy = max(mxy, max(p))\n",
    "            mny = min(mny, min(p))\n",
    "            \n",
    "            # mxy = max(mxy, max(p))\n",
    "            # mny = min(mny, min(p))\n",
    "        y_step = (mxy - mny) / y_num\n",
    "        x_step = (max(self.xs) - min(self.xs)) / x_num\n",
    "        self.ax.set_yticks(np.arange(mny, mxy + y_step, y_step))\n",
    "        self.ax.set_xticks(np.arange(min(self.xs), max(self.xs) + x_step, x_step))\n",
    "        self.ax.grid(True)\n",
    "        \n",
    "        for i, plot in enumerate(self.data):\n",
    "            if dotted:\n",
    "                fmt = 'o'\n",
    "            else:\n",
    "                fmt = ''\n",
    "            plt.errorbar(self.xs, plot, ms=ms, xerr=xerr, yerr=yerr, label=self.labels[i], fmt=fmt,\n",
    "                        ecolor='black', elinewidth=1)\n",
    "            if len(self.pred) > 0:\n",
    "                plt.scatter(self.xs, self.pred[i])\n",
    "        self.ax.legend()\n",
    "        if save:\n",
    "            self.fig.savefig(f\"experiments/plots/{label}.{file_format}\")\n",
    "        plt.show()\n"
   ]
  },
  {
   "cell_type": "code",
   "execution_count": 32,
   "metadata": {},
   "outputs": [],
   "source": [
    "import matplotlib.pyplot as plt\n",
    "\n",
    "\n",
    "xp = []\n",
    "xr = []\n",
    "with torch.no_grad():\n",
    "    for batch in test_loader[i]:\n",
    "            # print(len(batch))\n",
    "            X, y = batch\n",
    "            output = cm(X.to(DEVICE).to(torch.float32))\n",
    "            # print(output)\n",
    "            for idx, res in enumerate(output):\n",
    "                xp.append(res[1].cpu())\n",
    "                xr.append(y[idx][1])\n",
    "                # _sum += acc(np.array(res.cpu()), np.array(y[idx]))\n",
    "                # av += squared_sum(np.array(y[idx]))\n",
    "                # num += 1\n",
    "\n",
    "# Set a clean upper y-axis limit.\n",
    "# plt.ylim(ymax=np.ceil(maxfreq / 10) * 10 if maxfreq % 10 else maxfreq + 10)"
   ]
  },
  {
   "attachments": {},
   "cell_type": "markdown",
   "metadata": {},
   "source": [
    "### Trying solving trees"
   ]
  },
  {
   "cell_type": "code",
   "execution_count": null,
   "metadata": {},
   "outputs": [
    {
     "name": "stderr",
     "output_type": "stream",
     "text": [
      "100%|██████████| 193/193 [00:47<00:00,  4.11it/s]\n"
     ]
    }
   ],
   "source": [
    "# # Import the necessary modules and libraries\n",
    "# import numpy as np\n",
    "# from sklearn.ensemble import RandomForestRegressor\n",
    "# from sklearn.tree import DecisionTreeRegressor\n",
    "# import matplotlib.pyplot as plt\n",
    "\n",
    "\n",
    "# # Fit regression model\n",
    "# # regr_1 = DecisionTreeRegressor(max_depth=2)\n",
    "# regr_2 = DecisionTreeRegressor(max_depth=100)\n",
    "\n",
    "# for X, y in tqdm.tqdm(train_loader[0]):\n",
    "#   regr_2.fit(X, y)\n"
   ]
  },
  {
   "cell_type": "code",
   "execution_count": 944,
   "metadata": {},
   "outputs": [],
   "source": [
    "# xp = []\n",
    "# xr = []\n",
    "# for X, y in test_loader[0]:\n",
    "#     output = regr_2.predict(X)\n",
    "#     for idx, val in enumerate(output):\n",
    "#         xp.append(-val)\n",
    "#         xr.append(y[idx][0])"
   ]
  },
  {
   "attachments": {},
   "cell_type": "markdown",
   "metadata": {},
   "source": [
    "### Plotting res"
   ]
  },
  {
   "cell_type": "code",
   "execution_count": 51,
   "metadata": {},
   "outputs": [
    {
     "name": "stderr",
     "output_type": "stream",
     "text": [
      "No handles with labels found to put in legend.\n"
     ]
    },
    {
     "data": {
      "image/png": "[encoded data removed]",
      "text/plain": [
       "<Figure size 1800x2000 with 6 Axes>"
      ]
     },
     "metadata": {},
     "output_type": "display_data"
    }
   ],
   "source": [
    "import matplotlib.pyplot as plt\n",
    "\n",
    "\n",
    "params = [\n",
    "    'danceability',\n",
    "    'energy',\n",
    "    'loudness',\n",
    "    'tempo',\n",
    "    'valence',\n",
    "]\n",
    "\n",
    "\n",
    "ax, subplots = plt.subplots(2, 3)\n",
    "ax.set_size_inches(18, 20) \n",
    "for j in range(len(params)):\n",
    "    xp = []\n",
    "    xr = []\n",
    "    with torch.no_grad():\n",
    "        for batch in test_loader[i]:\n",
    "                # print(len(batch))\n",
    "                X, y = batch\n",
    "                output = cm(X.to(DEVICE).to(torch.float32))\n",
    "                # print(output)\n",
    "                for idx, res in enumerate(output):\n",
    "                    xp.append(res[j].cpu())\n",
    "                    xr.append(y[idx][j])\n",
    "                    # _sum += acc(np.array(res.cpu()), np.array(y[idx]))\n",
    "                    # av += squared_sum(np.array(y[idx]))\n",
    "                    # num += 1\n",
    "    xp = np.array(xp)\n",
    "    xr = np.array(xr)\n",
    "    v, b = np.histogram(xp - xr, bins=100)\n",
    "    # vr, br = np.histogram(xr, bins=100)\n",
    "    # plt.scatter(b[:-1], v, label=\"pred\")\n",
    "    # print(j / 2, j % 2)\n",
    "    subplots[j % 2][j // 2].hist(xp - xr, b[:-1], color='#0504aa',\n",
    "                            alpha=0.7, rwidth=0.85)\n",
    "    \n",
    "\n",
    "# ax, s = plt.subplots()\n",
    "# ax.set_size_inches(18, 20) \n",
    "# v, b = np.histogram(xp - xr, bins=100)\n",
    "# # vr, br = np.histogram(xr, bins=100)\n",
    "# # plt.scatter(b[:-1], v, label=\"pred\")\n",
    "# plt.hist(xp - xr, b[:-1], color='#0504aa',\n",
    "                            # alpha=0.7, rwidth=0.85)\n",
    "# plt.plot(br[:-1], vr, label=\"real\")\n",
    "# plt.plot(range(len(xr[:100])), np.array(xr[:100]) - np.array(xp[:100]), label=\"real\")\n",
    "# plt.plot(range(len(xp[:100])), xp[:100], label=\"pred\")\n",
    "ax.legend()\n",
    "plt.show()"
   ]
  },
  {
   "cell_type": "code",
   "execution_count": null,
   "metadata": {},
   "outputs": [],
   "source": [
    "p = Plot()"
   ]
  },
  {
   "cell_type": "code",
   "execution_count": 52,
   "metadata": {},
   "outputs": [
    {
     "name": "stdout",
     "output_type": "stream",
     "text": [
      "Testing multi-qa-mpnet-base-dot-v1...\n",
      "Average distance:  0.33747032202102006\n",
      "Average value:  1.1638369516935094\n"
     ]
    }
   ],
   "source": [
    "def test():\n",
    "    def calc(a, b):\n",
    "        return (a - b) ** 2\n",
    "\n",
    "    def squared_sum(a):\n",
    "        return np.sum(a ** 2)\n",
    "        return sum([el **2 for el in a])\n",
    "\n",
    "    def acc(a, b):\n",
    "        assert len(a) == len(b)\n",
    "        return np.sqrt(np.sum([\n",
    "            (a - b)**2\n",
    "        ]))\n",
    "        numerator = np.sum(a * b)\n",
    "        denominator = np.sqrt(squared_sum(a) * squared_sum(b))\n",
    "        if (denominator == 0):\n",
    "            return -1\n",
    "        return (numerator / float(denominator))\n",
    "\n",
    "\n",
    "    for i in range(len(tnames)):\n",
    "        print(f\"Testing {tnames[i]}...\")\n",
    "        _sum = 0\n",
    "        num = 0\n",
    "        mx = 0\n",
    "        av = 0\n",
    "        with torch.no_grad():\n",
    "            for batch in test_loader[i]:\n",
    "                # print(len(batch))\n",
    "                X, y = batch\n",
    "                output = cm(X.to(DEVICE).to(torch.float32))\n",
    "                # output = regr_2.predict(X)\n",
    "                # print(output)\n",
    "                for idx, res in enumerate(output):\n",
    "                    # print(res, y[idx])\n",
    "                    # res *= -1\n",
    "                    ta = acc(np.array(res.cpu()), np.array(y[idx]))\n",
    "                    if ta >= 0:\n",
    "                        # print(ta)\n",
    "                        _sum += ta\n",
    "                        av += np.sqrt(squared_sum(np.array(y[idx])))\n",
    "                        num += 1\n",
    "\n",
    "\n",
    "        print(\"Average distance: \", _sum/num)\n",
    "        print(\"Average value: \", av / num)\n",
    "if __name__ == \"__main__\":\n",
    "    test()\n"
   ]
  },
  {
   "cell_type": "code",
   "execution_count": null,
   "metadata": {},
   "outputs": [
    {
     "name": "stdout",
     "output_type": "stream",
     "text": [
      "14\n"
     ]
    }
   ],
   "source": [
    "a = np.array([1, 2, 3])\n",
    "b = np.array([1, 2, 3])\n",
    "print(np.sum(a ** 2))"
   ]
  },
  {
   "cell_type": "code",
   "execution_count": null,
   "metadata": {},
   "outputs": [
    {
     "name": "stdout",
     "output_type": "stream",
     "text": [
      "C:/Users/dannu/PycharmProjects/Practice/MoodSongsSearch/src/content/MoodSongs\\modelScaleLessLayers-multi-qa-mpnet-base-dot-v1-conv-no-bad.pt\n"
     ]
    }
   ],
   "source": [
    "# print(os.path.join(config.SAVE_DIR, f\"{config.MODEL_NAME}-{name}-conv-no-bad.pt\"))\n",
    "# torch.save(cm.state_dict(), os.path.join(config.SAVE_DIR, f\"{config.MODEL_NAME}-{name}-conv-no-bad.pt\"))"
   ]
  },
  {
   "cell_type": "code",
   "execution_count": null,
   "metadata": {},
   "outputs": [
    {
     "name": "stdout",
     "output_type": "stream",
     "text": [
      "[0]\n",
      "tensor(0.1887, device='cuda:0') 0.3981818181818182\n"
     ]
    }
   ],
   "source": [
    "n = 100\n",
    "data = test_set[:n + 1]\n",
    "print(data[0][1])\n",
    "import random\n",
    "random.shuffle(data)\n",
    "res = [0 for i in range(len(data[0][1]))]\n",
    "tr = [0 for i in range(len(data[0][1]))]\n",
    "with torch.no_grad():\n",
    "    for i in range(n):\n",
    "        # print(cm(torch.from_numpy(data[i][0]).view(-1, 1, 24, 32).to(DEVICE).to(torch.float32)))\n",
    "        for i2 in range(i + 1, n):\n",
    "            for j in range(len(data[0][1])):\n",
    "                # print(cm(torch.from_numpy(data[i + 1][0]).view(-1, 1, 24, 32).to(DEVICE).to(torch.float32))[0][5])\n",
    "                res[j] += abs((cm(torch.from_numpy(data[i2][0]).view(-1, 1, 24, 32).to(DEVICE).to(torch.float32)) - cm(torch.from_numpy(data[i][0]).view(-1, 1, 24, 32).to(DEVICE).to(torch.float32)))[0][j])\n",
    "                tr[j] += abs((data[i2][1] - data[i][1])[j])\n",
    "        # print(m(torch.from_numpy(data[i + 1][0])) - m(torch.from_numpy(data[i][0])))\n",
    "for el in zip(res, tr):\n",
    "    print(2 * el[0] / ((n - 1) * n), 2 * el[1] / (n * (n - 1)))"
   ]
  },
  {
   "cell_type": "markdown",
   "metadata": {},
   "source": [
    "### Merging lyrics and songs with vectors (?? I hope i won't need that in next version)"
   ]
  },
  {
   "cell_type": "code",
   "execution_count": null,
   "metadata": {},
   "outputs": [],
   "source": [
    "merged = []\n",
    "\n",
    "for el, vec in zip(song_data, vecs):\n",
    "    song, artist, meta = el[0], el[1], vec[1]\n",
    "    merged.append({'song': song,\n",
    "                   'artist': artist,\n",
    "                   'meta': meta})"
   ]
  },
  {
   "cell_type": "code",
   "execution_count": null,
   "metadata": {},
   "outputs": [
    {
     "data": {
      "text/plain": [
       "11559"
      ]
     },
     "execution_count": 63,
     "metadata": {},
     "output_type": "execute_result"
    }
   ],
   "source": [
    "len(merged)"
   ]
  },
  {
   "cell_type": "code",
   "execution_count": null,
   "metadata": {},
   "outputs": [],
   "source": [
    "for i in range(len(merged)):  # convert to list for serialization\n",
    "    merged[i]['meta'] = list(map(float, merged[i]['meta']))"
   ]
  },
  {
   "cell_type": "code",
   "execution_count": null,
   "metadata": {},
   "outputs": [],
   "source": [
    "with open(\"meta+song.json\", 'w') as f:\n",
    "    json.dump(merged, f)"
   ]
  },
  {
   "cell_type": "code",
   "execution_count": null,
   "metadata": {},
   "outputs": [],
   "source": []
  }
 ],
 "metadata": {
  "kernelspec": {
   "display_name": "Python 3.8.8 ('venv': venv)",
   "language": "python",
   "name": "python3"
  },
  "language_info": {
   "codemirror_mode": {
    "name": "ipython",
    "version": 3
   },
   "file_extension": ".py",
   "mimetype": "text/x-python",
   "name": "python",
   "nbconvert_exporter": "python",
   "pygments_lexer": "ipython3",
   "version": "3.8.8 (default, Apr 13 2021, 19:58:26) \n[GCC 7.3.0]"
  },
  "orig_nbformat": 4,
  "vscode": {
   "interpreter": {
    "hash": "d83fcea3eeadd219dcc8dbbb5b581f79daf5b9c77428cdafb5fea61305dad999"
   }
  }
 },
 "nbformat": 4,
 "nbformat_minor": 2
}
